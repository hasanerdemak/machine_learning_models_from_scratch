{
 "cells": [
  {
   "cell_type": "code",
   "execution_count": 1,
   "metadata": {},
   "outputs": [],
   "source": [
    "from sklearn.model_selection import train_test_split\n",
    "from sklearn import metrics\n",
    "from sklearn.metrics import roc_curve, auc\n",
    "from sklearn.preprocessing import label_binarize\n",
    "\n",
    "from itertools import cycle\n",
    "\n",
    "import pandas as pd\n",
    "import numpy as np\n",
    "import matplotlib.pyplot as plt\n",
    "import plotly.express as px\n",
    "import seaborn as sns\n",
    "from sklearn.model_selection import train_test_split\n",
    "from dt import DecisionTreeClassifier\n",
    "from kmeans import KMeansClusterClassifier\n",
    "from statistics import mode"
   ]
  },
  {
   "cell_type": "markdown",
   "metadata": {},
   "source": [
    "#### Read Dataset"
   ]
  },
  {
   "cell_type": "code",
   "execution_count": 2,
   "metadata": {},
   "outputs": [],
   "source": [
    "iris = pd.read_csv(\"Iris.csv\");"
   ]
  },
  {
   "cell_type": "markdown",
   "metadata": {},
   "source": [
    "Improve dataset: Remove id column, Change Class labels that are given in the last column to integer values(0, 1, 2)"
   ]
  },
  {
   "cell_type": "code",
   "execution_count": 3,
   "metadata": {},
   "outputs": [],
   "source": [
    "iris = iris.drop(columns=\"Id\");\n",
    "spc = {'Iris-setosa':0, 'Iris-versicolor':1, 'Iris-virginica':2}\n",
    "iris[\"Species\"] = [spc[item] for item in iris[\"Species\"]];"
   ]
  },
  {
   "cell_type": "markdown",
   "metadata": {},
   "source": [
    "# Train the classifier"
   ]
  },
  {
   "cell_type": "markdown",
   "metadata": {},
   "source": [
    "Split dataset to train and test"
   ]
  },
  {
   "cell_type": "code",
   "execution_count": 4,
   "metadata": {},
   "outputs": [],
   "source": [
    "X_train, X_test, y_train, y_test = train_test_split(iris.drop(columns=\"Species\"), iris[\"Species\"], test_size=0.2, shuffle=True);\n",
    "\n",
    "X_train_list=X_train.values.tolist();\n",
    "y_train_list=y_train.values.tolist();\n",
    "X_test_list=X_test.values.tolist();\n",
    "y_test_list=y_test.values.tolist();"
   ]
  },
  {
   "cell_type": "markdown",
   "metadata": {},
   "source": [
    "#### Find K Value Using Elbow Method"
   ]
  },
  {
   "cell_type": "code",
   "execution_count": 5,
   "metadata": {},
   "outputs": [
    {
     "data": {
      "image/png": "[encoded data removed]",
      "text/plain": [
       "<Figure size 432x288 with 1 Axes>"
      ]
     },
     "metadata": {
      "needs_background": "light"
     },
     "output_type": "display_data"
    }
   ],
   "source": [
    "mean_sum_of_distances = []\n",
    "K = range(1,10)\n",
    "for k in K:\n",
    "    kmeans = KMeansClusterClassifier(k)\n",
    "    kmeans.fit(X_train_list)\n",
    "    sum_of_distance = kmeans.get_sum_of_distances_from_their_closest_centroids(X_train_list)\n",
    "    mean_sum_of_distances.append(sum_of_distance/(2*len(X_train_list)))\n",
    "\n",
    "plt.plot(K, mean_sum_of_distances, 'bx-')\n",
    "plt.xlabel('Values of K')\n",
    "plt.ylabel('Mean Sum of Squared Distances')\n",
    "plt.title('The Elbow Method using Sum of Squared Distances')\n",
    "plt.show()"
   ]
  },
  {
   "cell_type": "markdown",
   "metadata": {},
   "source": [
    "According to the graph we created using the Elbow method, the most optimal n_cluster value seems to be 3"
   ]
  },
  {
   "cell_type": "markdown",
   "metadata": {},
   "source": [
    "### Train The Classifier"
   ]
  },
  {
   "cell_type": "code",
   "execution_count": 6,
   "metadata": {},
   "outputs": [],
   "source": [
    "# Train KMeans Cluster Classifier\n",
    "n_cluster = 3\n",
    "kmeans = KMeansClusterClassifier(n_cluster)\n",
    "kmeans.fit(X_train_list)\n",
    "\n",
    "# Train Decision Tree Classifier\n",
    "X_train_list_copy=X_train.values.tolist();\n",
    "dtClassifier = DecisionTreeClassifier(max_depth=5)\n",
    "dtClassifier.fit(X_train_list_copy,y_train_list);"
   ]
  },
  {
   "cell_type": "markdown",
   "metadata": {},
   "source": [
    "Update Labels According to Original"
   ]
  },
  {
   "cell_type": "code",
   "execution_count": 7,
   "metadata": {},
   "outputs": [],
   "source": [
    "classes = [[] for _ in range(n_cluster)]\n",
    "for i in range(n_cluster):\n",
    "    for j in kmeans.clusters[i]:\n",
    "        classes[i].append(y_train_list[j])\n",
    "\n",
    "new_clusters = [[] for _ in range(n_cluster)]\n",
    "new_centroids = [[] for _ in range(n_cluster)]\n",
    "for i in range(n_cluster):\n",
    "    new_clusters[mode(classes[i])] = kmeans.clusters[i]\n",
    "    new_centroids[mode(classes[i])] = kmeans.centroids[i]\n",
    "\n",
    "kmeans.clusters = new_clusters\n",
    "kmeans.centroids = new_centroids"
   ]
  },
  {
   "cell_type": "markdown",
   "metadata": {},
   "source": [
    "### Predict Class of Test values"
   ]
  },
  {
   "cell_type": "code",
   "execution_count": 8,
   "metadata": {},
   "outputs": [
    {
     "name": "stdout",
     "output_type": "stream",
     "text": [
      "Test Features Expected Classification\n",
      "[1, 0, 2, 0, 1, 0, 2, 1, 2, 1, 2, 1, 1, 1, 2, 0, 2, 2, 0, 0, 0, 1, 2, 1, 2, 1, 1, 1, 0, 1]\n",
      "Prediction\n",
      "[1, 0, 2, 0, 1, 0, 2, 1, 2, 1, 2, 1, 1, 2, 2, 0, 2, 2, 0, 0, 0, 1, 1, 1, 2, 1, 1, 2, 0, 1]\n",
      "Train Features Expected Classification\n",
      "[2, 2, 1, 0, 0, 0, 2, 2, 1, 0, 0, 1, 0, 0, 0, 1, 0, 0, 0, 0, 0, 0, 1, 2, 2, 1, 2, 2, 0, 2, 1, 1, 0, 0, 1, 1, 1, 1, 2, 0, 1, 1, 2, 2, 0, 0, 1, 1, 2, 0, 0, 1, 0, 2, 0, 2, 1, 0, 1, 2, 0, 1, 2, 1, 1, 1, 1, 2, 2, 2, 2, 2, 0, 1, 2, 1, 2, 1, 0, 1, 0, 2, 0, 0, 1, 0, 0, 0, 2, 2, 2, 1, 0, 1, 2, 2, 0, 2, 0, 1, 0, 2, 2, 1, 1, 1, 2, 2, 0, 2, 2, 0, 2, 0, 2, 2, 2, 1, 0, 1]\n",
      "Prediction\n",
      "[2, 2, 1, 0, 0, 0, 2, 1, 1, 0, 0, 1, 0, 0, 0, 1, 0, 0, 0, 0, 0, 0, 1, 2, 2, 1, 2, 2, 0, 1, 1, 1, 0, 0, 1, 1, 1, 1, 1, 0, 1, 1, 2, 2, 0, 0, 1, 1, 1, 0, 0, 1, 0, 2, 0, 2, 1, 0, 1, 2, 0, 1, 2, 1, 1, 1, 1, 2, 2, 2, 2, 2, 0, 1, 2, 1, 2, 1, 0, 1, 0, 1, 0, 0, 1, 0, 0, 0, 1, 2, 2, 1, 0, 1, 1, 1, 0, 2, 0, 1, 0, 1, 1, 1, 1, 1, 1, 1, 0, 1, 2, 0, 2, 0, 2, 2, 2, 1, 0, 1]\n"
     ]
    }
   ],
   "source": [
    "kmeans_test_predictions = kmeans.predict(X_test_list)\n",
    "print(\"Test Features Expected Classification\")\n",
    "print(y_test_list)\n",
    "print(\"Prediction\")\n",
    "print(kmeans_test_predictions);\n",
    "kmeans_train_predictions = kmeans.predict(X_train_list)\n",
    "print(\"Train Features Expected Classification\")\n",
    "print(y_train_list)\n",
    "print(\"Prediction\")\n",
    "print(kmeans_train_predictions);"
   ]
  },
  {
   "cell_type": "markdown",
   "metadata": {},
   "source": [
    "Predict with Decision Tree Classifier"
   ]
  },
  {
   "cell_type": "code",
   "execution_count": 9,
   "metadata": {},
   "outputs": [],
   "source": [
    "dt_test_predictions = dtClassifier.predict(X_test_list)\n",
    "dt_train_predictions = dtClassifier.predict(X_train_list)"
   ]
  },
  {
   "cell_type": "markdown",
   "metadata": {},
   "source": [
    "# Results"
   ]
  },
  {
   "cell_type": "markdown",
   "metadata": {},
   "source": [
    "### 3D Cluster Plot for Test"
   ]
  },
  {
   "cell_type": "code",
   "execution_count": 10,
   "metadata": {},
   "outputs": [
    {
     "data": {
      "application/vnd.plotly.v1+json": {
       "config": {
        "plotlyServerURL": "https://plot.ly"
       },
       "data": [
        {
         "hovertemplate": "SepalLengthCm=%{x}<br>PetalWidthCm=%{y}<br>PetalLengthCm=%{z}<br>SepalWidthCm=%{marker.size}<br>Species=%{marker.color}<extra></extra>",
         "legendgroup": "",
         "marker": {
          "color": [
           1,
           0,
           2,
           0,
           1,
           0,
           2,
           1,
           2,
           1,
           2,
           1,
           1,
           2,
           2,
           0,
           2,
           2,
           0,
           0,
           0,
           1,
           1,
           1,
           2,
           1,
           1,
           2,
           0,
           1
          ],
          "coloraxis": "coloraxis",
          "size": [
           3,
           2.3,
           3.6,
           3,
           3,
           3.5,
           2.9,
           2.9,
           3,
           3.3,
           3.8,
           2.5,
           3,
           3.1,
           3,
           3.1,
           3.1,
           3,
           3,
           3.2,
           3.5,
           2.9,
           3,
           2.8,
           3.1,
           3.2,
           2.2,
           3,
           3.4,
           2.7
          ],
          "sizemode": "area",
          "sizeref": 0.004222222222222222,
          "symbol": "circle"
         },
         "mode": "markers",
         "name": "",
         "scene": "scene",
         "showlegend": false,
         "type": "scatter3d",
         "x": [
          5.6,
          4.5,
          7.2,
          4.4,
          5.4,
          5.5,
          6.3,
          6.1,
          6.5,
          6.3,
          7.9,
          5.5,
          6.1,
          6.9,
          7.1,
          4.9,
          6.7,
          6.7,
          4.3,
          4.7,
          5.1,
          6.2,
          6.1,
          6.5,
          6.9,
          7,
          6.2,
          6.7,
          4.8,
          5.8
         ],
         "y": [
          1.3,
          0.3,
          2.5,
          0.2,
          1.5,
          0.2,
          1.8,
          1.4,
          2.2,
          1.6,
          2,
          1.3,
          1.4,
          1.5,
          2.1,
          0.1,
          2.4,
          2.3,
          0.1,
          0.2,
          0.2,
          1.3,
          1.8,
          1.5,
          2.3,
          1.4,
          1.5,
          1.7,
          0.2,
          1.2
         ],
         "z": [
          4.1,
          1.3,
          6.1,
          1.3,
          4.5,
          1.3,
          5.6,
          4.7,
          5.8,
          4.7,
          6.4,
          4,
          4.6,
          4.9,
          5.9,
          1.5,
          5.6,
          5.2,
          1.1,
          1.3,
          1.4,
          4.3,
          4.9,
          4.6,
          5.1,
          4.7,
          4.5,
          5,
          1.9,
          3.9
         ]
        }
       ],
       "layout": {
        "coloraxis": {
         "colorbar": {
          "title": {
           "text": "Species"
          }
         },
         "colorscale": [
          [
           0,
           "#0d0887"
          ],
          [
           0.1111111111111111,
           "#46039f"
          ],
          [
           0.2222222222222222,
           "#7201a8"
          ],
          [
           0.3333333333333333,
           "#9c179e"
          ],
          [
           0.4444444444444444,
           "#bd3786"
          ],
          [
           0.5555555555555556,
           "#d8576b"
          ],
          [
           0.6666666666666666,
           "#ed7953"
          ],
          [
           0.7777777777777778,
           "#fb9f3a"
          ],
          [
           0.8888888888888888,
           "#fdca26"
          ],
          [
           1,
           "#f0f921"
          ]
         ]
        },
        "legend": {
         "itemsizing": "constant",
         "tracegroupgap": 0
        },
        "margin": {
         "t": 60
        },
        "scene": {
         "domain": {
          "x": [
           0,
           1
          ],
          "y": [
           0,
           1
          ]
         },
         "xaxis": {
          "title": {
           "text": "SepalLengthCm"
          }
         },
         "yaxis": {
          "title": {
           "text": "PetalWidthCm"
          }
         },
         "zaxis": {
          "title": {
           "text": "PetalLengthCm"
          }
         }
        },
        "template": {
         "data": {
          "bar": [
           {
            "error_x": {
             "color": "#2a3f5f"
            },
            "error_y": {
             "color": "#2a3f5f"
            },
            "marker": {
             "line": {
              "color": "#E5ECF6",
              "width": 0.5
             },
             "pattern": {
              "fillmode": "overlay",
              "size": 10,
              "solidity": 0.2
             }
            },
            "type": "bar"
           }
          ],
          "barpolar": [
           {
            "marker": {
             "line": {
              "color": "#E5ECF6",
              "width": 0.5
             },
             "pattern": {
              "fillmode": "overlay",
              "size": 10,
              "solidity": 0.2
             }
            },
            "type": "barpolar"
           }
          ],
          "carpet": [
           {
            "aaxis": {
             "endlinecolor": "#2a3f5f",
             "gridcolor": "white",
             "linecolor": "white",
             "minorgridcolor": "white",
             "startlinecolor": "#2a3f5f"
            },
            "baxis": {
             "endlinecolor": "#2a3f5f",
             "gridcolor": "white",
             "linecolor": "white",
             "minorgridcolor": "white",
             "startlinecolor": "#2a3f5f"
            },
            "type": "carpet"
           }
          ],
          "choropleth": [
           {
            "colorbar": {
             "outlinewidth": 0,
             "ticks": ""
            },
            "type": "choropleth"
           }
          ],
          "contour": [
           {
            "colorbar": {
             "outlinewidth": 0,
             "ticks": ""
            },
            "colorscale": [
             [
              0,
              "#0d0887"
             ],
             [
              0.1111111111111111,
              "#46039f"
             ],
             [
              0.2222222222222222,
              "#7201a8"
             ],
             [
              0.3333333333333333,
              "#9c179e"
             ],
             [
              0.4444444444444444,
              "#bd3786"
             ],
             [
              0.5555555555555556,
              "#d8576b"
             ],
             [
              0.6666666666666666,
              "#ed7953"
             ],
             [
              0.7777777777777778,
              "#fb9f3a"
             ],
             [
              0.8888888888888888,
              "#fdca26"
             ],
             [
              1,
              "#f0f921"
             ]
            ],
            "type": "contour"
           }
          ],
          "contourcarpet": [
           {
            "colorbar": {
             "outlinewidth": 0,
             "ticks": ""
            },
            "type": "contourcarpet"
           }
          ],
          "heatmap": [
           {
            "colorbar": {
             "outlinewidth": 0,
             "ticks": ""
            },
            "colorscale": [
             [
              0,
              "#0d0887"
             ],
             [
              0.1111111111111111,
              "#46039f"
             ],
             [
              0.2222222222222222,
              "#7201a8"
             ],
             [
              0.3333333333333333,
              "#9c179e"
             ],
             [
              0.4444444444444444,
              "#bd3786"
             ],
             [
              0.5555555555555556,
              "#d8576b"
             ],
             [
              0.6666666666666666,
              "#ed7953"
             ],
             [
              0.7777777777777778,
              "#fb9f3a"
             ],
             [
              0.8888888888888888,
              "#fdca26"
             ],
             [
              1,
              "#f0f921"
             ]
            ],
            "type": "heatmap"
           }
          ],
          "heatmapgl": [
           {
            "colorbar": {
             "outlinewidth": 0,
             "ticks": ""
            },
            "colorscale": [
             [
              0,
              "#0d0887"
             ],
             [
              0.1111111111111111,
              "#46039f"
             ],
             [
              0.2222222222222222,
              "#7201a8"
             ],
             [
              0.3333333333333333,
              "#9c179e"
             ],
             [
              0.4444444444444444,
              "#bd3786"
             ],
             [
              0.5555555555555556,
              "#d8576b"
             ],
             [
              0.6666666666666666,
              "#ed7953"
             ],
             [
              0.7777777777777778,
              "#fb9f3a"
             ],
             [
              0.8888888888888888,
              "#fdca26"
             ],
             [
              1,
              "#f0f921"
             ]
            ],
            "type": "heatmapgl"
           }
          ],
          "histogram": [
           {
            "marker": {
             "pattern": {
              "fillmode": "overlay",
              "size": 10,
              "solidity": 0.2
             }
            },
            "type": "histogram"
           }
          ],
          "histogram2d": [
           {
            "colorbar": {
             "outlinewidth": 0,
             "ticks": ""
            },
            "colorscale": [
             [
              0,
              "#0d0887"
             ],
             [
              0.1111111111111111,
              "#46039f"
             ],
             [
              0.2222222222222222,
              "#7201a8"
             ],
             [
              0.3333333333333333,
              "#9c179e"
             ],
             [
              0.4444444444444444,
              "#bd3786"
             ],
             [
              0.5555555555555556,
              "#d8576b"
             ],
             [
              0.6666666666666666,
              "#ed7953"
             ],
             [
              0.7777777777777778,
              "#fb9f3a"
             ],
             [
              0.8888888888888888,
              "#fdca26"
             ],
             [
              1,
              "#f0f921"
             ]
            ],
            "type": "histogram2d"
           }
          ],
          "histogram2dcontour": [
           {
            "colorbar": {
             "outlinewidth": 0,
             "ticks": ""
            },
            "colorscale": [
             [
              0,
              "#0d0887"
             ],
             [
              0.1111111111111111,
              "#46039f"
             ],
             [
              0.2222222222222222,
              "#7201a8"
             ],
             [
              0.3333333333333333,
              "#9c179e"
             ],
             [
              0.4444444444444444,
              "#bd3786"
             ],
             [
              0.5555555555555556,
              "#d8576b"
             ],
             [
              0.6666666666666666,
              "#ed7953"
             ],
             [
              0.7777777777777778,
              "#fb9f3a"
             ],
             [
              0.8888888888888888,
              "#fdca26"
             ],
             [
              1,
              "#f0f921"
             ]
            ],
            "type": "histogram2dcontour"
           }
          ],
          "mesh3d": [
           {
            "colorbar": {
             "outlinewidth": 0,
             "ticks": ""
            },
            "type": "mesh3d"
           }
          ],
          "parcoords": [
           {
            "line": {
             "colorbar": {
              "outlinewidth": 0,
              "ticks": ""
             }
            },
            "type": "parcoords"
           }
          ],
          "pie": [
           {
            "automargin": true,
            "type": "pie"
           }
          ],
          "scatter": [
           {
            "marker": {
             "colorbar": {
              "outlinewidth": 0,
              "ticks": ""
             }
            },
            "type": "scatter"
           }
          ],
          "scatter3d": [
           {
            "line": {
             "colorbar": {
              "outlinewidth": 0,
              "ticks": ""
             }
            },
            "marker": {
             "colorbar": {
              "outlinewidth": 0,
              "ticks": ""
             }
            },
            "type": "scatter3d"
           }
          ],
          "scattercarpet": [
           {
            "marker": {
             "colorbar": {
              "outlinewidth": 0,
              "ticks": ""
             }
            },
            "type": "scattercarpet"
           }
          ],
          "scattergeo": [
           {
            "marker": {
             "colorbar": {
              "outlinewidth": 0,
              "ticks": ""
             }
            },
            "type": "scattergeo"
           }
          ],
          "scattergl": [
           {
            "marker": {
             "colorbar": {
              "outlinewidth": 0,
              "ticks": ""
             }
            },
            "type": "scattergl"
           }
          ],
          "scattermapbox": [
           {
            "marker": {
             "colorbar": {
              "outlinewidth": 0,
              "ticks": ""
             }
            },
            "type": "scattermapbox"
           }
          ],
          "scatterpolar": [
           {
            "marker": {
             "colorbar": {
              "outlinewidth": 0,
              "ticks": ""
             }
            },
            "type": "scatterpolar"
           }
          ],
          "scatterpolargl": [
           {
            "marker": {
             "colorbar": {
              "outlinewidth": 0,
              "ticks": ""
             }
            },
            "type": "scatterpolargl"
           }
          ],
          "scatterternary": [
           {
            "marker": {
             "colorbar": {
              "outlinewidth": 0,
              "ticks": ""
             }
            },
            "type": "scatterternary"
           }
          ],
          "surface": [
           {
            "colorbar": {
             "outlinewidth": 0,
             "ticks": ""
            },
            "colorscale": [
             [
              0,
              "#0d0887"
             ],
             [
              0.1111111111111111,
              "#46039f"
             ],
             [
              0.2222222222222222,
              "#7201a8"
             ],
             [
              0.3333333333333333,
              "#9c179e"
             ],
             [
              0.4444444444444444,
              "#bd3786"
             ],
             [
              0.5555555555555556,
              "#d8576b"
             ],
             [
              0.6666666666666666,
              "#ed7953"
             ],
             [
              0.7777777777777778,
              "#fb9f3a"
             ],
             [
              0.8888888888888888,
              "#fdca26"
             ],
             [
              1,
              "#f0f921"
             ]
            ],
            "type": "surface"
           }
          ],
          "table": [
           {
            "cells": {
             "fill": {
              "color": "#EBF0F8"
             },
             "line": {
              "color": "white"
             }
            },
            "header": {
             "fill": {
              "color": "#C8D4E3"
             },
             "line": {
              "color": "white"
             }
            },
            "type": "table"
           }
          ]
         },
         "layout": {
          "annotationdefaults": {
           "arrowcolor": "#2a3f5f",
           "arrowhead": 0,
           "arrowwidth": 1
          },
          "autotypenumbers": "strict",
          "coloraxis": {
           "colorbar": {
            "outlinewidth": 0,
            "ticks": ""
           }
          },
          "colorscale": {
           "diverging": [
            [
             0,
             "#8e0152"
            ],
            [
             0.1,
             "#c51b7d"
            ],
            [
             0.2,
             "#de77ae"
            ],
            [
             0.3,
             "#f1b6da"
            ],
            [
             0.4,
             "#fde0ef"
            ],
            [
             0.5,
             "#f7f7f7"
            ],
            [
             0.6,
             "#e6f5d0"
            ],
            [
             0.7,
             "#b8e186"
            ],
            [
             0.8,
             "#7fbc41"
            ],
            [
             0.9,
             "#4d9221"
            ],
            [
             1,
             "#276419"
            ]
           ],
           "sequential": [
            [
             0,
             "#0d0887"
            ],
            [
             0.1111111111111111,
             "#46039f"
            ],
            [
             0.2222222222222222,
             "#7201a8"
            ],
            [
             0.3333333333333333,
             "#9c179e"
            ],
            [
             0.4444444444444444,
             "#bd3786"
            ],
            [
             0.5555555555555556,
             "#d8576b"
            ],
            [
             0.6666666666666666,
             "#ed7953"
            ],
            [
             0.7777777777777778,
             "#fb9f3a"
            ],
            [
             0.8888888888888888,
             "#fdca26"
            ],
            [
             1,
             "#f0f921"
            ]
           ],
           "sequentialminus": [
            [
             0,
             "#0d0887"
            ],
            [
             0.1111111111111111,
             "#46039f"
            ],
            [
             0.2222222222222222,
             "#7201a8"
            ],
            [
             0.3333333333333333,
             "#9c179e"
            ],
            [
             0.4444444444444444,
             "#bd3786"
            ],
            [
             0.5555555555555556,
             "#d8576b"
            ],
            [
             0.6666666666666666,
             "#ed7953"
            ],
            [
             0.7777777777777778,
             "#fb9f3a"
            ],
            [
             0.8888888888888888,
             "#fdca26"
            ],
            [
             1,
             "#f0f921"
            ]
           ]
          },
          "colorway": [
           "#636efa",
           "#EF553B",
           "#00cc96",
           "#ab63fa",
           "#FFA15A",
           "#19d3f3",
           "#FF6692",
           "#B6E880",
           "#FF97FF",
           "#FECB52"
          ],
          "font": {
           "color": "#2a3f5f"
          },
          "geo": {
           "bgcolor": "white",
           "lakecolor": "white",
           "landcolor": "#E5ECF6",
           "showlakes": true,
           "showland": true,
           "subunitcolor": "white"
          },
          "hoverlabel": {
           "align": "left"
          },
          "hovermode": "closest",
          "mapbox": {
           "style": "light"
          },
          "paper_bgcolor": "white",
          "plot_bgcolor": "#E5ECF6",
          "polar": {
           "angularaxis": {
            "gridcolor": "white",
            "linecolor": "white",
            "ticks": ""
           },
           "bgcolor": "#E5ECF6",
           "radialaxis": {
            "gridcolor": "white",
            "linecolor": "white",
            "ticks": ""
           }
          },
          "scene": {
           "xaxis": {
            "backgroundcolor": "#E5ECF6",
            "gridcolor": "white",
            "gridwidth": 2,
            "linecolor": "white",
            "showbackground": true,
            "ticks": "",
            "zerolinecolor": "white"
           },
           "yaxis": {
            "backgroundcolor": "#E5ECF6",
            "gridcolor": "white",
            "gridwidth": 2,
            "linecolor": "white",
            "showbackground": true,
            "ticks": "",
            "zerolinecolor": "white"
           },
           "zaxis": {
            "backgroundcolor": "#E5ECF6",
            "gridcolor": "white",
            "gridwidth": 2,
            "linecolor": "white",
            "showbackground": true,
            "ticks": "",
            "zerolinecolor": "white"
           }
          },
          "shapedefaults": {
           "line": {
            "color": "#2a3f5f"
           }
          },
          "ternary": {
           "aaxis": {
            "gridcolor": "white",
            "linecolor": "white",
            "ticks": ""
           },
           "baxis": {
            "gridcolor": "white",
            "linecolor": "white",
            "ticks": ""
           },
           "bgcolor": "#E5ECF6",
           "caxis": {
            "gridcolor": "white",
            "linecolor": "white",
            "ticks": ""
           }
          },
          "title": {
           "x": 0.05
          },
          "xaxis": {
           "automargin": true,
           "gridcolor": "white",
           "linecolor": "white",
           "ticks": "",
           "title": {
            "standoff": 15
           },
           "zerolinecolor": "white",
           "zerolinewidth": 2
          },
          "yaxis": {
           "automargin": true,
           "gridcolor": "white",
           "linecolor": "white",
           "ticks": "",
           "title": {
            "standoff": 15
           },
           "zerolinecolor": "white",
           "zerolinewidth": 2
          }
         }
        }
       }
      }
     },
     "metadata": {},
     "output_type": "display_data"
    }
   ],
   "source": [
    "#SepalLengthCm,SepalWidthCm,PetalLengthCm,PetalWidthCm,Species\n",
    "\n",
    "dataset = X_test.copy()\n",
    "dataset[\"Species\"] = kmeans_test_predictions\n",
    "fig = px.scatter_3d(dataset, x=\"SepalLengthCm\", y=\"PetalWidthCm\", z=\"PetalLengthCm\", color='Species', size=\"SepalWidthCm\", size_max=30)\n",
    "fig.show()"
   ]
  },
  {
   "cell_type": "markdown",
   "metadata": {},
   "source": [
    "### 3D Cluster Plot for Train"
   ]
  },
  {
   "cell_type": "code",
   "execution_count": 11,
   "metadata": {},
   "outputs": [
    {
     "data": {
      "application/vnd.plotly.v1+json": {
       "config": {
        "plotlyServerURL": "https://plot.ly"
       },
       "data": [
        {
         "hovertemplate": "SepalLengthCm=%{x}<br>PetalWidthCm=%{y}<br>PetalLengthCm=%{z}<br>SepalWidthCm=%{marker.size}<br>Species=%{marker.color}<extra></extra>",
         "legendgroup": "",
         "marker": {
          "color": [
           2,
           2,
           1,
           0,
           0,
           0,
           2,
           1,
           1,
           0,
           0,
           1,
           0,
           0,
           0,
           1,
           0,
           0,
           0,
           0,
           0,
           0,
           1,
           2,
           2,
           1,
           2,
           2,
           0,
           1,
           1,
           1,
           0,
           0,
           1,
           1,
           1,
           1,
           1,
           0,
           1,
           1,
           2,
           2,
           0,
           0,
           1,
           1,
           1,
           0,
           0,
           1,
           0,
           2,
           0,
           2,
           1,
           0,
           1,
           2,
           0,
           1,
           2,
           1,
           1,
           1,
           1,
           2,
           2,
           2,
           2,
           2,
           0,
           1,
           2,
           1,
           2,
           1,
           0,
           1,
           0,
           1,
           0,
           0,
           1,
           0,
           0,
           0,
           1,
           2,
           2,
           1,
           0,
           1,
           1,
           1,
           0,
           2,
           0,
           1,
           0,
           1,
           1,
           1,
           1,
           1,
           1,
           1,
           0,
           1,
           2,
           0,
           2,
           0,
           2,
           2,
           2,
           1,
           0,
           1
          ],
          "coloraxis": "coloraxis",
          "size": [
           2.6,
           3.3,
           2.4,
           3.2,
           3.9,
           3.7,
           3.2,
           2.8,
           2.9,
           3.2,
           3.7,
           2.3,
           3.1,
           3.2,
           4.4,
           2.9,
           3.1,
           3.6,
           3.4,
           3.7,
           3.4,
           3,
           2,
           2.9,
           3,
           2.7,
           2.8,
           2.8,
           3.4,
           2.8,
           2.8,
           2.7,
           3,
           3.3,
           3.4,
           2.9,
           2.8,
           2.7,
           2.2,
           3.2,
           3,
           2.9,
           2.5,
           3.3,
           3.6,
           3.3,
           2.2,
           2.9,
           2.8,
           3.4,
           4.2,
           2.8,
           3.5,
           3,
           3,
           3.8,
           2.5,
           3,
           2.5,
           3.1,
           2.9,
           3,
           3.4,
           3.1,
           2.5,
           2.6,
           2.3,
           2.8,
           3.3,
           3,
           3.2,
           3.1,
           3.5,
           3,
           3.4,
           2.3,
           3,
           2.7,
           3.4,
           3.2,
           3.4,
           3,
           3.1,
           3.4,
           2.4,
           3.4,
           4,
           3.5,
           2.5,
           3.2,
           3.2,
           2.6,
           4.1,
           3,
           2.5,
           2.8,
           3.8,
           3.2,
           3.8,
           3.2,
           3.8,
           2.7,
           2.5,
           2.6,
           2.4,
           3.1,
           3,
           2.7,
           3.1,
           2.7,
           3,
           3.9,
           3,
           3.5,
           2.8,
           2.7,
           2.6,
           2.8,
           3.8,
           2.8
          ],
          "sizemode": "area",
          "sizeref": 0.00488888888888889,
          "symbol": "circle"
         },
         "mode": "markers",
         "name": "",
         "scene": "scene",
         "showlegend": false,
         "type": "scatter3d",
         "x": [
          6.1,
          6.3,
          5.5,
          4.6,
          5.4,
          5.4,
          6.5,
          6.2,
          5.6,
          5,
          5.3,
          5,
          4.6,
          4.4,
          5.7,
          5.7,
          4.9,
          4.6,
          4.6,
          5.1,
          5,
          4.8,
          5,
          7.3,
          7.2,
          5.2,
          7.4,
          7.7,
          5,
          5.8,
          5.7,
          5.8,
          5,
          5,
          6,
          6,
          6.8,
          6,
          6,
          4.7,
          5.6,
          6.6,
          6.7,
          6.7,
          5,
          5.1,
          6,
          6.4,
          5.6,
          5.4,
          5.5,
          5.7,
          5,
          6.5,
          4.8,
          7.7,
          6.3,
          4.9,
          5.1,
          6.4,
          4.4,
          5.9,
          6.2,
          6.7,
          5.6,
          5.8,
          6.3,
          6.4,
          6.7,
          6.8,
          6.9,
          6.9,
          5,
          5.7,
          6.3,
          5.5,
          7.6,
          5.6,
          4.8,
          5.9,
          5.2,
          6,
          4.8,
          5.1,
          5.5,
          5.4,
          5.8,
          5.1,
          6.3,
          7.2,
          6.4,
          5.7,
          5.2,
          6.6,
          5.7,
          6.3,
          5.1,
          6.8,
          5.7,
          6.4,
          5.1,
          5.8,
          4.9,
          5.5,
          4.9,
          6.7,
          5.9,
          5.8,
          4.9,
          6.3,
          7.7,
          5.4,
          6.5,
          5.2,
          6.4,
          6.4,
          7.7,
          6.1,
          5.1,
          6.1
         ],
         "y": [
          1.4,
          2.5,
          1,
          0.2,
          0.4,
          0.2,
          2,
          1.8,
          1.3,
          0.2,
          0.2,
          1,
          0.2,
          0.2,
          0.4,
          1.3,
          0.1,
          0.2,
          0.3,
          0.4,
          0.2,
          0.1,
          1,
          1.8,
          1.6,
          1.4,
          1.9,
          2,
          0.4,
          2.4,
          1.3,
          1,
          0.2,
          0.2,
          1.6,
          1.5,
          1.4,
          1.6,
          1.5,
          0.2,
          1.5,
          1.3,
          1.8,
          2.5,
          0.2,
          0.5,
          1,
          1.3,
          2,
          0.4,
          0.2,
          1.3,
          0.3,
          1.8,
          0.3,
          2.2,
          1.5,
          0.2,
          1.1,
          1.8,
          0.2,
          1.5,
          2.3,
          1.5,
          1.1,
          1.2,
          1.3,
          2.2,
          2.1,
          2.1,
          2.3,
          2.1,
          0.6,
          1.2,
          2.4,
          1.3,
          2.1,
          1.3,
          0.2,
          1.8,
          0.2,
          1.8,
          0.2,
          0.2,
          1.1,
          0.2,
          0.2,
          0.3,
          1.9,
          1.8,
          2.3,
          1,
          0.1,
          1.4,
          2,
          1.5,
          0.4,
          2.3,
          0.3,
          1.5,
          0.3,
          1.9,
          1.7,
          1.2,
          1,
          1.4,
          1.8,
          1.9,
          0.1,
          1.8,
          2.3,
          0.4,
          2,
          0.2,
          2.1,
          1.9,
          2.3,
          1.3,
          0.2,
          1.2
         ],
         "z": [
          5.6,
          6,
          3.7,
          1.4,
          1.7,
          1.5,
          5.1,
          4.8,
          3.6,
          1.2,
          1.5,
          3.3,
          1.5,
          1.3,
          1.5,
          4.2,
          1.5,
          1,
          1.4,
          1.5,
          1.5,
          1.4,
          3.5,
          6.3,
          5.8,
          3.9,
          6.1,
          6.7,
          1.6,
          5.1,
          4.5,
          4.1,
          1.6,
          1.4,
          4.5,
          4.5,
          4.8,
          5.1,
          5,
          1.6,
          4.5,
          4.6,
          5.8,
          5.7,
          1.4,
          1.7,
          4,
          4.3,
          4.9,
          1.5,
          1.4,
          4.1,
          1.3,
          5.5,
          1.4,
          6.7,
          4.9,
          1.4,
          3,
          5.5,
          1.4,
          4.2,
          5.4,
          4.7,
          3.9,
          4,
          4.4,
          5.6,
          5.7,
          5.5,
          5.7,
          5.4,
          1.6,
          4.2,
          5.6,
          4,
          6.6,
          4.2,
          1.6,
          4.8,
          1.4,
          4.8,
          1.6,
          1.5,
          3.8,
          1.7,
          1.2,
          1.4,
          5,
          6,
          5.3,
          3.5,
          1.5,
          4.4,
          5,
          5.1,
          1.9,
          5.9,
          1.7,
          4.5,
          1.5,
          5.1,
          4.5,
          4.4,
          3.3,
          4.4,
          5.1,
          5.1,
          1.5,
          4.9,
          6.1,
          1.3,
          5.2,
          1.5,
          5.6,
          5.3,
          6.9,
          4,
          1.6,
          4.7
         ]
        }
       ],
       "layout": {
        "coloraxis": {
         "colorbar": {
          "title": {
           "text": "Species"
          }
         },
         "colorscale": [
          [
           0,
           "#0d0887"
          ],
          [
           0.1111111111111111,
           "#46039f"
          ],
          [
           0.2222222222222222,
           "#7201a8"
          ],
          [
           0.3333333333333333,
           "#9c179e"
          ],
          [
           0.4444444444444444,
           "#bd3786"
          ],
          [
           0.5555555555555556,
           "#d8576b"
          ],
          [
           0.6666666666666666,
           "#ed7953"
          ],
          [
           0.7777777777777778,
           "#fb9f3a"
          ],
          [
           0.8888888888888888,
           "#fdca26"
          ],
          [
           1,
           "#f0f921"
          ]
         ]
        },
        "legend": {
         "itemsizing": "constant",
         "tracegroupgap": 0
        },
        "margin": {
         "t": 60
        },
        "scene": {
         "domain": {
          "x": [
           0,
           1
          ],
          "y": [
           0,
           1
          ]
         },
         "xaxis": {
          "title": {
           "text": "SepalLengthCm"
          }
         },
         "yaxis": {
          "title": {
           "text": "PetalWidthCm"
          }
         },
         "zaxis": {
          "title": {
           "text": "PetalLengthCm"
          }
         }
        },
        "template": {
         "data": {
          "bar": [
           {
            "error_x": {
             "color": "#2a3f5f"
            },
            "error_y": {
             "color": "#2a3f5f"
            },
            "marker": {
             "line": {
              "color": "#E5ECF6",
              "width": 0.5
             },
             "pattern": {
              "fillmode": "overlay",
              "size": 10,
              "solidity": 0.2
             }
            },
            "type": "bar"
           }
          ],
          "barpolar": [
           {
            "marker": {
             "line": {
              "color": "#E5ECF6",
              "width": 0.5
             },
             "pattern": {
              "fillmode": "overlay",
              "size": 10,
              "solidity": 0.2
             }
            },
            "type": "barpolar"
           }
          ],
          "carpet": [
           {
            "aaxis": {
             "endlinecolor": "#2a3f5f",
             "gridcolor": "white",
             "linecolor": "white",
             "minorgridcolor": "white",
             "startlinecolor": "#2a3f5f"
            },
            "baxis": {
             "endlinecolor": "#2a3f5f",
             "gridcolor": "white",
             "linecolor": "white",
             "minorgridcolor": "white",
             "startlinecolor": "#2a3f5f"
            },
            "type": "carpet"
           }
          ],
          "choropleth": [
           {
            "colorbar": {
             "outlinewidth": 0,
             "ticks": ""
            },
            "type": "choropleth"
           }
          ],
          "contour": [
           {
            "colorbar": {
             "outlinewidth": 0,
             "ticks": ""
            },
            "colorscale": [
             [
              0,
              "#0d0887"
             ],
             [
              0.1111111111111111,
              "#46039f"
             ],
             [
              0.2222222222222222,
              "#7201a8"
             ],
             [
              0.3333333333333333,
              "#9c179e"
             ],
             [
              0.4444444444444444,
              "#bd3786"
             ],
             [
              0.5555555555555556,
              "#d8576b"
             ],
             [
              0.6666666666666666,
              "#ed7953"
             ],
             [
              0.7777777777777778,
              "#fb9f3a"
             ],
             [
              0.8888888888888888,
              "#fdca26"
             ],
             [
              1,
              "#f0f921"
             ]
            ],
            "type": "contour"
           }
          ],
          "contourcarpet": [
           {
            "colorbar": {
             "outlinewidth": 0,
             "ticks": ""
            },
            "type": "contourcarpet"
           }
          ],
          "heatmap": [
           {
            "colorbar": {
             "outlinewidth": 0,
             "ticks": ""
            },
            "colorscale": [
             [
              0,
              "#0d0887"
             ],
             [
              0.1111111111111111,
              "#46039f"
             ],
             [
              0.2222222222222222,
              "#7201a8"
             ],
             [
              0.3333333333333333,
              "#9c179e"
             ],
             [
              0.4444444444444444,
              "#bd3786"
             ],
             [
              0.5555555555555556,
              "#d8576b"
             ],
             [
              0.6666666666666666,
              "#ed7953"
             ],
             [
              0.7777777777777778,
              "#fb9f3a"
             ],
             [
              0.8888888888888888,
              "#fdca26"
             ],
             [
              1,
              "#f0f921"
             ]
            ],
            "type": "heatmap"
           }
          ],
          "heatmapgl": [
           {
            "colorbar": {
             "outlinewidth": 0,
             "ticks": ""
            },
            "colorscale": [
             [
              0,
              "#0d0887"
             ],
             [
              0.1111111111111111,
              "#46039f"
             ],
             [
              0.2222222222222222,
              "#7201a8"
             ],
             [
              0.3333333333333333,
              "#9c179e"
             ],
             [
              0.4444444444444444,
              "#bd3786"
             ],
             [
              0.5555555555555556,
              "#d8576b"
             ],
             [
              0.6666666666666666,
              "#ed7953"
             ],
             [
              0.7777777777777778,
              "#fb9f3a"
             ],
             [
              0.8888888888888888,
              "#fdca26"
             ],
             [
              1,
              "#f0f921"
             ]
            ],
            "type": "heatmapgl"
           }
          ],
          "histogram": [
           {
            "marker": {
             "pattern": {
              "fillmode": "overlay",
              "size": 10,
              "solidity": 0.2
             }
            },
            "type": "histogram"
           }
          ],
          "histogram2d": [
           {
            "colorbar": {
             "outlinewidth": 0,
             "ticks": ""
            },
            "colorscale": [
             [
              0,
              "#0d0887"
             ],
             [
              0.1111111111111111,
              "#46039f"
             ],
             [
              0.2222222222222222,
              "#7201a8"
             ],
             [
              0.3333333333333333,
              "#9c179e"
             ],
             [
              0.4444444444444444,
              "#bd3786"
             ],
             [
              0.5555555555555556,
              "#d8576b"
             ],
             [
              0.6666666666666666,
              "#ed7953"
             ],
             [
              0.7777777777777778,
              "#fb9f3a"
             ],
             [
              0.8888888888888888,
              "#fdca26"
             ],
             [
              1,
              "#f0f921"
             ]
            ],
            "type": "histogram2d"
           }
          ],
          "histogram2dcontour": [
           {
            "colorbar": {
             "outlinewidth": 0,
             "ticks": ""
            },
            "colorscale": [
             [
              0,
              "#0d0887"
             ],
             [
              0.1111111111111111,
              "#46039f"
             ],
             [
              0.2222222222222222,
              "#7201a8"
             ],
             [
              0.3333333333333333,
              "#9c179e"
             ],
             [
              0.4444444444444444,
              "#bd3786"
             ],
             [
              0.5555555555555556,
              "#d8576b"
             ],
             [
              0.6666666666666666,
              "#ed7953"
             ],
             [
              0.7777777777777778,
              "#fb9f3a"
             ],
             [
              0.8888888888888888,
              "#fdca26"
             ],
             [
              1,
              "#f0f921"
             ]
            ],
            "type": "histogram2dcontour"
           }
          ],
          "mesh3d": [
           {
            "colorbar": {
             "outlinewidth": 0,
             "ticks": ""
            },
            "type": "mesh3d"
           }
          ],
          "parcoords": [
           {
            "line": {
             "colorbar": {
              "outlinewidth": 0,
              "ticks": ""
             }
            },
            "type": "parcoords"
           }
          ],
          "pie": [
           {
            "automargin": true,
            "type": "pie"
           }
          ],
          "scatter": [
           {
            "marker": {
             "colorbar": {
              "outlinewidth": 0,
              "ticks": ""
             }
            },
            "type": "scatter"
           }
          ],
          "scatter3d": [
           {
            "line": {
             "colorbar": {
              "outlinewidth": 0,
              "ticks": ""
             }
            },
            "marker": {
             "colorbar": {
              "outlinewidth": 0,
              "ticks": ""
             }
            },
            "type": "scatter3d"
           }
          ],
          "scattercarpet": [
           {
            "marker": {
             "colorbar": {
              "outlinewidth": 0,
              "ticks": ""
             }
            },
            "type": "scattercarpet"
           }
          ],
          "scattergeo": [
           {
            "marker": {
             "colorbar": {
              "outlinewidth": 0,
              "ticks": ""
             }
            },
            "type": "scattergeo"
           }
          ],
          "scattergl": [
           {
            "marker": {
             "colorbar": {
              "outlinewidth": 0,
              "ticks": ""
             }
            },
            "type": "scattergl"
           }
          ],
          "scattermapbox": [
           {
            "marker": {
             "colorbar": {
              "outlinewidth": 0,
              "ticks": ""
             }
            },
            "type": "scattermapbox"
           }
          ],
          "scatterpolar": [
           {
            "marker": {
             "colorbar": {
              "outlinewidth": 0,
              "ticks": ""
             }
            },
            "type": "scatterpolar"
           }
          ],
          "scatterpolargl": [
           {
            "marker": {
             "colorbar": {
              "outlinewidth": 0,
              "ticks": ""
             }
            },
            "type": "scatterpolargl"
           }
          ],
          "scatterternary": [
           {
            "marker": {
             "colorbar": {
              "outlinewidth": 0,
              "ticks": ""
             }
            },
            "type": "scatterternary"
           }
          ],
          "surface": [
           {
            "colorbar": {
             "outlinewidth": 0,
             "ticks": ""
            },
            "colorscale": [
             [
              0,
              "#0d0887"
             ],
             [
              0.1111111111111111,
              "#46039f"
             ],
             [
              0.2222222222222222,
              "#7201a8"
             ],
             [
              0.3333333333333333,
              "#9c179e"
             ],
             [
              0.4444444444444444,
              "#bd3786"
             ],
             [
              0.5555555555555556,
              "#d8576b"
             ],
             [
              0.6666666666666666,
              "#ed7953"
             ],
             [
              0.7777777777777778,
              "#fb9f3a"
             ],
             [
              0.8888888888888888,
              "#fdca26"
             ],
             [
              1,
              "#f0f921"
             ]
            ],
            "type": "surface"
           }
          ],
          "table": [
           {
            "cells": {
             "fill": {
              "color": "#EBF0F8"
             },
             "line": {
              "color": "white"
             }
            },
            "header": {
             "fill": {
              "color": "#C8D4E3"
             },
             "line": {
              "color": "white"
             }
            },
            "type": "table"
           }
          ]
         },
         "layout": {
          "annotationdefaults": {
           "arrowcolor": "#2a3f5f",
           "arrowhead": 0,
           "arrowwidth": 1
          },
          "autotypenumbers": "strict",
          "coloraxis": {
           "colorbar": {
            "outlinewidth": 0,
            "ticks": ""
           }
          },
          "colorscale": {
           "diverging": [
            [
             0,
             "#8e0152"
            ],
            [
             0.1,
             "#c51b7d"
            ],
            [
             0.2,
             "#de77ae"
            ],
            [
             0.3,
             "#f1b6da"
            ],
            [
             0.4,
             "#fde0ef"
            ],
            [
             0.5,
             "#f7f7f7"
            ],
            [
             0.6,
             "#e6f5d0"
            ],
            [
             0.7,
             "#b8e186"
            ],
            [
             0.8,
             "#7fbc41"
            ],
            [
             0.9,
             "#4d9221"
            ],
            [
             1,
             "#276419"
            ]
           ],
           "sequential": [
            [
             0,
             "#0d0887"
            ],
            [
             0.1111111111111111,
             "#46039f"
            ],
            [
             0.2222222222222222,
             "#7201a8"
            ],
            [
             0.3333333333333333,
             "#9c179e"
            ],
            [
             0.4444444444444444,
             "#bd3786"
            ],
            [
             0.5555555555555556,
             "#d8576b"
            ],
            [
             0.6666666666666666,
             "#ed7953"
            ],
            [
             0.7777777777777778,
             "#fb9f3a"
            ],
            [
             0.8888888888888888,
             "#fdca26"
            ],
            [
             1,
             "#f0f921"
            ]
           ],
           "sequentialminus": [
            [
             0,
             "#0d0887"
            ],
            [
             0.1111111111111111,
             "#46039f"
            ],
            [
             0.2222222222222222,
             "#7201a8"
            ],
            [
             0.3333333333333333,
             "#9c179e"
            ],
            [
             0.4444444444444444,
             "#bd3786"
            ],
            [
             0.5555555555555556,
             "#d8576b"
            ],
            [
             0.6666666666666666,
             "#ed7953"
            ],
            [
             0.7777777777777778,
             "#fb9f3a"
            ],
            [
             0.8888888888888888,
             "#fdca26"
            ],
            [
             1,
             "#f0f921"
            ]
           ]
          },
          "colorway": [
           "#636efa",
           "#EF553B",
           "#00cc96",
           "#ab63fa",
           "#FFA15A",
           "#19d3f3",
           "#FF6692",
           "#B6E880",
           "#FF97FF",
           "#FECB52"
          ],
          "font": {
           "color": "#2a3f5f"
          },
          "geo": {
           "bgcolor": "white",
           "lakecolor": "white",
           "landcolor": "#E5ECF6",
           "showlakes": true,
           "showland": true,
           "subunitcolor": "white"
          },
          "hoverlabel": {
           "align": "left"
          },
          "hovermode": "closest",
          "mapbox": {
           "style": "light"
          },
          "paper_bgcolor": "white",
          "plot_bgcolor": "#E5ECF6",
          "polar": {
           "angularaxis": {
            "gridcolor": "white",
            "linecolor": "white",
            "ticks": ""
           },
           "bgcolor": "#E5ECF6",
           "radialaxis": {
            "gridcolor": "white",
            "linecolor": "white",
            "ticks": ""
           }
          },
          "scene": {
           "xaxis": {
            "backgroundcolor": "#E5ECF6",
            "gridcolor": "white",
            "gridwidth": 2,
            "linecolor": "white",
            "showbackground": true,
            "ticks": "",
            "zerolinecolor": "white"
           },
           "yaxis": {
            "backgroundcolor": "#E5ECF6",
            "gridcolor": "white",
            "gridwidth": 2,
            "linecolor": "white",
            "showbackground": true,
            "ticks": "",
            "zerolinecolor": "white"
           },
           "zaxis": {
            "backgroundcolor": "#E5ECF6",
            "gridcolor": "white",
            "gridwidth": 2,
            "linecolor": "white",
            "showbackground": true,
            "ticks": "",
            "zerolinecolor": "white"
           }
          },
          "shapedefaults": {
           "line": {
            "color": "#2a3f5f"
           }
          },
          "ternary": {
           "aaxis": {
            "gridcolor": "white",
            "linecolor": "white",
            "ticks": ""
           },
           "baxis": {
            "gridcolor": "white",
            "linecolor": "white",
            "ticks": ""
           },
           "bgcolor": "#E5ECF6",
           "caxis": {
            "gridcolor": "white",
            "linecolor": "white",
            "ticks": ""
           }
          },
          "title": {
           "x": 0.05
          },
          "xaxis": {
           "automargin": true,
           "gridcolor": "white",
           "linecolor": "white",
           "ticks": "",
           "title": {
            "standoff": 15
           },
           "zerolinecolor": "white",
           "zerolinewidth": 2
          },
          "yaxis": {
           "automargin": true,
           "gridcolor": "white",
           "linecolor": "white",
           "ticks": "",
           "title": {
            "standoff": 15
           },
           "zerolinecolor": "white",
           "zerolinewidth": 2
          }
         }
        }
       }
      }
     },
     "metadata": {},
     "output_type": "display_data"
    }
   ],
   "source": [
    "dataset = X_train.copy()\n",
    "dataset[\"Species\"] = kmeans_train_predictions\n",
    "fig = px.scatter_3d(dataset, x=\"SepalLengthCm\", y=\"PetalWidthCm\", z=\"PetalLengthCm\", color='Species', size=\"SepalWidthCm\", size_max=30)\n",
    "fig.show()"
   ]
  },
  {
   "cell_type": "markdown",
   "metadata": {},
   "source": [
    "### Confusion Matrix of Test"
   ]
  },
  {
   "cell_type": "code",
   "execution_count": 12,
   "metadata": {},
   "outputs": [
    {
     "data": {
      "image/png": "[encoded data removed]",
      "text/plain": [
       "<Figure size 432x288 with 2 Axes>"
      ]
     },
     "metadata": {},
     "output_type": "display_data"
    },
    {
     "data": {
      "image/png": "[encoded data removed]",
      "text/plain": [
       "<Figure size 432x288 with 2 Axes>"
      ]
     },
     "metadata": {},
     "output_type": "display_data"
    }
   ],
   "source": [
    "y_pred2 = pd.Series(kmeans_test_predictions);\n",
    "y_test2 = pd.Series(y_test_list);\n",
    "mt=metrics.confusion_matrix(y_test2, y_pred2)\n",
    "df_cm = pd.DataFrame(mt, range(3), range(3))\n",
    "sns.set(font_scale=1.4)\n",
    "sns.heatmap(df_cm, annot=True, annot_kws={\"size\":16})\n",
    "plt.title('Confusion matrix of the KMeans Classifier (for Test)')\n",
    "plt.show()\n",
    "\n",
    "y_pred3 = pd.Series(dt_test_predictions);\n",
    "mt=metrics.confusion_matrix(y_test2, y_pred3)\n",
    "df_cm = pd.DataFrame(mt, range(3), range(3))\n",
    "sns.set(font_scale=1.4)\n",
    "sns.heatmap(df_cm, annot=True, annot_kws={\"size\":16})\n",
    "plt.title('Confusion matrix of the Decision Tree Classifier (for Test)')\n",
    "plt.show()"
   ]
  },
  {
   "cell_type": "markdown",
   "metadata": {},
   "source": [
    "### Confusion Matrix of Train"
   ]
  },
  {
   "cell_type": "code",
   "execution_count": 13,
   "metadata": {},
   "outputs": [
    {
     "data": {
      "image/png": "[encoded data removed]",
      "text/plain": [
       "<Figure size 432x288 with 2 Axes>"
      ]
     },
     "metadata": {},
     "output_type": "display_data"
    },
    {
     "data": {
      "image/png": "[encoded data removed]",
      "text/plain": [
       "<Figure size 432x288 with 2 Axes>"
      ]
     },
     "metadata": {},
     "output_type": "display_data"
    }
   ],
   "source": [
    "x_pred2 = pd.Series(kmeans_train_predictions);\n",
    "x_test2 = pd.Series(y_train_list);\n",
    "mt = metrics.confusion_matrix(x_test2, x_pred2)\n",
    "df_cm = pd.DataFrame(mt, range(3), range(3))\n",
    "sns.set(font_scale=1.4)\n",
    "sns.heatmap(df_cm, annot=True, annot_kws={\"size\":16})\n",
    "plt.title('Confusion matrix of the KMeans Classifier (for Train)')\n",
    "plt.show()\n",
    "\n",
    "x_pred3 = pd.Series(dt_train_predictions);\n",
    "mt = metrics.confusion_matrix(x_test2, x_pred3)\n",
    "df_cm = pd.DataFrame(mt, range(3), range(3))\n",
    "sns.set(font_scale=1.4)\n",
    "sns.heatmap(df_cm, annot=True, annot_kws={\"size\":16})\n",
    "plt.title('Confusion matrix of the Decision Tree Classifier (for Train)')\n",
    "plt.show()"
   ]
  },
  {
   "cell_type": "markdown",
   "metadata": {},
   "source": [
    "### F1-Score"
   ]
  },
  {
   "cell_type": "code",
   "execution_count": 14,
   "metadata": {},
   "outputs": [
    {
     "name": "stdout",
     "output_type": "stream",
     "text": [
      "F1-Score Test(KMeans):\n",
      "0.9006315789473684\n",
      "F1-Score Test(Decision Tree):\n",
      "0.9668771929824562\n",
      "\n",
      "\n",
      "F1-Score Train(KMeans):\n",
      "0.8895552223888056\n",
      "F1-Score Train(Decision Tree):\n",
      "0.9833002645502645\n"
     ]
    }
   ],
   "source": [
    "f1 = metrics.f1_score(y_test2, y_pred2, average='weighted');\n",
    "print(\"F1-Score Test(KMeans):\")\n",
    "print(f1)\n",
    "f1 = metrics.f1_score(y_test2, y_pred3, average='weighted');\n",
    "print(\"F1-Score Test(Decision Tree):\")\n",
    "print(f1)\n",
    "\n",
    "print(\"\\n\")\n",
    "\n",
    "f2 = metrics.f1_score(x_test2, x_pred2, average='weighted');\n",
    "print(\"F1-Score Train(KMeans):\")\n",
    "print(f2)\n",
    "f2 = metrics.f1_score(x_test2, x_pred3, average='weighted');\n",
    "print(\"F1-Score Train(Decision Tree):\")\n",
    "print(f2)"
   ]
  },
  {
   "cell_type": "markdown",
   "metadata": {},
   "source": [
    "### Accuracy"
   ]
  },
  {
   "cell_type": "code",
   "execution_count": 15,
   "metadata": {},
   "outputs": [
    {
     "name": "stdout",
     "output_type": "stream",
     "text": [
      "Accuracy Test (KMeans)\n",
      "0.9\n",
      "Accuracy Test (Decision Tree)\n",
      "0.9666666666666667\n",
      "\n",
      "\n",
      "Accuracy Train (KMeans)\n",
      "0.8916666666666667\n",
      "Accuracy Train (Decision Tree)\n",
      "0.9833333333333333\n"
     ]
    }
   ],
   "source": [
    "accuracy = metrics.accuracy_score(y_test2, y_pred2);\n",
    "print(\"Accuracy Test (KMeans)\")\n",
    "print(accuracy);\n",
    "accuracy = metrics.accuracy_score(y_test2, y_pred3);\n",
    "print(\"Accuracy Test (Decision Tree)\")\n",
    "print(accuracy);\n",
    "\n",
    "print(\"\\n\")\n",
    "\n",
    "accuracy2 = metrics.accuracy_score(x_test2, x_pred2);\n",
    "print(\"Accuracy Train (KMeans)\")\n",
    "print(accuracy2);\n",
    "accuracy2 = metrics.accuracy_score(x_test2, x_pred3);\n",
    "print(\"Accuracy Train (Decision Tree)\")\n",
    "print(accuracy2);\n"
   ]
  },
  {
   "cell_type": "markdown",
   "metadata": {},
   "source": [
    "### Precision"
   ]
  },
  {
   "cell_type": "code",
   "execution_count": 16,
   "metadata": {},
   "outputs": [
    {
     "name": "stdout",
     "output_type": "stream",
     "text": [
      "Precision Test (KMeans):\n",
      "0.9038888888888887\n",
      "Precision Test (Decision Tree):\n",
      "0.9700000000000001\n",
      "\n",
      "\n",
      "Precision Train (KMeans):\n",
      "0.9198333333333333\n",
      "Precision Train (Decision Tree):\n",
      "0.984108527131783\n"
     ]
    }
   ],
   "source": [
    "precision = metrics.precision_score(y_test2, y_pred2, average='weighted');\n",
    "print(\"Precision Test (KMeans):\")\n",
    "print(precision);\n",
    "precision = metrics.precision_score(y_test2, y_pred3, average='weighted');\n",
    "print(\"Precision Test (Decision Tree):\")\n",
    "print(precision);\n",
    "\n",
    "print(\"\\n\")\n",
    "\n",
    "precision2 = metrics.precision_score(x_test2, x_pred2, average='weighted');\n",
    "print(\"Precision Train (KMeans):\")\n",
    "print(precision2);\n",
    "precision2 = metrics.precision_score(x_test2, x_pred3, average='weighted');\n",
    "print(\"Precision Train (Decision Tree):\")\n",
    "print(precision2);\n"
   ]
  },
  {
   "cell_type": "markdown",
   "metadata": {},
   "source": [
    "### Recal"
   ]
  },
  {
   "cell_type": "code",
   "execution_count": 17,
   "metadata": {},
   "outputs": [
    {
     "name": "stdout",
     "output_type": "stream",
     "text": [
      "Recall Test (KMeans):\n",
      "0.9\n",
      "Recall Test (Decision Tree):\n",
      "0.9666666666666667\n",
      "\n",
      "\n",
      "Recall Train (KMeans):\n",
      "0.8916666666666667\n",
      "Recall Train (Decision Tree):\n",
      "0.9833333333333333\n"
     ]
    }
   ],
   "source": [
    "recall = metrics.recall_score(y_test2, y_pred2, average='weighted');\n",
    "print(\"Recall Test (KMeans):\")\n",
    "print(recall);\n",
    "recall = metrics.recall_score(y_test2, y_pred3, average='weighted');\n",
    "print(\"Recall Test (Decision Tree):\")\n",
    "print(recall);\n",
    "\n",
    "print(\"\\n\")\n",
    "\n",
    "recall2 = metrics.recall_score(x_test2, x_pred2, average='weighted');\n",
    "print(\"Recall Train (KMeans):\")\n",
    "print(recall2);\n",
    "recall2 = metrics.recall_score(x_test2, x_pred3, average='weighted');\n",
    "print(\"Recall Train (Decision Tree):\")\n",
    "print(recall2);\n"
   ]
  },
  {
   "cell_type": "markdown",
   "metadata": {},
   "source": [
    "### Plot of ROC Curve (Test/Train) and Value of AUC (Test/Train)"
   ]
  },
  {
   "cell_type": "code",
   "execution_count": 18,
   "metadata": {},
   "outputs": [
    {
     "data": {
      "image/png": "[encoded data removed]",
      "text/plain": [
       "<Figure size 432x288 with 1 Axes>"
      ]
     },
     "metadata": {},
     "output_type": "display_data"
    }
   ],
   "source": [
    "y_testb = label_binarize(y_test2, classes=[0, 1, 2]);\n",
    "y_predb = label_binarize(y_pred2, classes=[0, 1, 2]);\n",
    "\n",
    "fpr = dict()\n",
    "tpr = dict()\n",
    "roc_auc = dict()\n",
    "\n",
    "for i in range(3):\n",
    "    fpr[i], tpr[i], _ = roc_curve(y_testb[:,i], y_predb[:,i])\n",
    "    roc_auc[i] = auc(fpr[i], tpr[i])\n",
    "\n",
    "\n",
    "all_fpr = np.unique(np.concatenate([fpr[i] for i in range(3)]));\n",
    "mean_tpr = np.zeros_like(all_fpr)\n",
    "for i in range(3):\n",
    "    mean_tpr += np.interp(all_fpr, fpr[i], tpr[i]);\n",
    "mean_tpr /= 3;\n",
    "fpr[\"macro\"] = all_fpr\n",
    "tpr[\"macro\"] = mean_tpr\n",
    "roc_auc[\"macro\"] = auc(fpr[\"macro\"], tpr[\"macro\"]);\n",
    "\n",
    "colors = cycle(['aqua', 'darkorange', 'cornflowerblue'])\n",
    "for i, color in zip(range(3), colors):\n",
    "    plt.plot(fpr[i], tpr[i], color = color, lw=2,\n",
    "    label='ROC curve of class {0} (area = {1:0.2f})'.format(i, roc_auc[i]))"
   ]
  },
  {
   "cell_type": "code",
   "execution_count": 19,
   "metadata": {},
   "outputs": [
    {
     "data": {
      "image/png": "[encoded data removed]",
      "text/plain": [
       "<Figure size 432x288 with 1 Axes>"
      ]
     },
     "metadata": {},
     "output_type": "display_data"
    }
   ],
   "source": [
    "y_testb = label_binarize(y_test2, classes=[0, 1, 2]);\n",
    "y_predb = label_binarize(y_pred3, classes=[0, 1, 2]);\n",
    "\n",
    "fpr = dict()\n",
    "tpr = dict()\n",
    "roc_auc = dict()\n",
    "\n",
    "for i in range(3):\n",
    "    fpr[i], tpr[i], _ = roc_curve(y_testb[:,i], y_predb[:,i])\n",
    "    roc_auc[i] = auc(fpr[i], tpr[i])\n",
    "\n",
    "\n",
    "all_fpr = np.unique(np.concatenate([fpr[i] for i in range(3)]));\n",
    "mean_tpr = np.zeros_like(all_fpr)\n",
    "for i in range(3):\n",
    "    mean_tpr += np.interp(all_fpr, fpr[i], tpr[i]);\n",
    "mean_tpr /= 3;\n",
    "fpr[\"macro\"] = all_fpr\n",
    "tpr[\"macro\"] = mean_tpr\n",
    "roc_auc[\"macro\"] = auc(fpr[\"macro\"], tpr[\"macro\"]);\n",
    "\n",
    "colors = cycle(['aqua', 'darkorange', 'cornflowerblue'])\n",
    "for i, color in zip(range(3), colors):\n",
    "    plt.plot(fpr[i], tpr[i], color = color, lw=2,\n",
    "    label='ROC curve of class {0} (area = {1:0.2f})'.format(i, roc_auc[i]))"
   ]
  },
  {
   "cell_type": "markdown",
   "metadata": {},
   "source": [
    "#### Observations:\n",
    "- If we have no idea about the data and want to group data points to understand their collective behavior, we can use KMeans Clustering.\n",
    "- If there is a need to classify objects or categories based on their historical classifications and attributes, then Decision Tree Classification can be used.\n",
    "- Decision Tree is a supervised learning algorithm; k-means clustering is an unsupervised learning algorithm.\n",
    "- As we can see from all the results, Decision Tree Classifier performs better than KMeans Clustering Classifier."
   ]
  }
 ],
 "metadata": {
  "celltoolbar": "Raw Cell Format",
  "interpreter": {
   "hash": "f4cf763342742b823eef4fa270aa8cc0b243f241a6ac6c11dddb837db146a4e7"
  },
  "kernelspec": {
   "display_name": "Python 3.9.7 ('base')",
   "language": "python",
   "name": "python3"
  },
  "language_info": {
   "codemirror_mode": {
    "name": "ipython",
    "version": 3
   },
   "file_extension": ".py",
   "mimetype": "text/x-python",
   "name": "python",
   "nbconvert_exporter": "python",
   "pygments_lexer": "ipython3",
   "version": "3.9.12"
  },
  "toc": {
   "base_numbering": 1,
   "nav_menu": {},
   "number_sections": true,
   "sideBar": true,
   "skip_h1_title": false,
   "title_cell": "Table of Contents",
   "title_sidebar": "Contents",
   "toc_cell": false,
   "toc_position": {},
   "toc_section_display": true,
   "toc_window_display": false
  },
  "varInspector": {
   "cols": {
    "lenName": 16,
    "lenType": 16,
    "lenVar": 40
   },
   "kernels_config": {
    "python": {
     "delete_cmd_postfix": "",
     "delete_cmd_prefix": "del ",
     "library": "var_list.py",
     "varRefreshCmd": "print(var_dic_list())"
    },
    "r": {
     "delete_cmd_postfix": ") ",
     "delete_cmd_prefix": "rm(",
     "library": "var_list.r",
     "varRefreshCmd": "cat(var_dic_list()) "
    }
   },
   "types_to_exclude": [
    "module",
    "function",
    "builtin_function_or_method",
    "instance",
    "_Feature"
   ],
   "window_display": false
  }
 },
 "nbformat": 4,
 "nbformat_minor": 2
}
